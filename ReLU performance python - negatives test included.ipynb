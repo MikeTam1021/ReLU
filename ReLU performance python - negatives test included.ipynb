{
 "cells": [
  {
   "cell_type": "markdown",
   "metadata": {},
   "source": [
    "# This is a test of ReLU function speeds in Python\n",
    "###### Author: Mike Tamillow"
   ]
  },
  {
   "cell_type": "code",
   "execution_count": 1,
   "metadata": {
    "collapsed": true
   },
   "outputs": [],
   "source": [
    "import cProfile as profile\n",
    "import numpy as np"
   ]
  },
  {
   "cell_type": "code",
   "execution_count": 2,
   "metadata": {
    "collapsed": true
   },
   "outputs": [],
   "source": [
    "def max_zero_floor(x):\n",
    "    if x < 0:\n",
    "        return 0\n",
    "    return x"
   ]
  },
  {
   "cell_type": "code",
   "execution_count": 3,
   "metadata": {
    "collapsed": true
   },
   "outputs": [],
   "source": [
    "relu1 = lambda y: [x if x>0 else 0 for x in range(-y, y, 1)] # iterating ternary operation\n",
    "relu2 = lambda y: [max(0, x) for x in range(-y, y, 1)] # iterating max operation\n",
    "relu3 = lambda y: [max_zero_floor(x) for x in range(-y, y, 1)] # iterating udf\n",
    "relu4 = lambda y: [np.maximum(0, x) for x in range(-y, y, 1)] # iterating numpy.maximum\n",
    "relu5 = lambda y: np.maximum(0, range(-y, y, 1)) # Uses broadcasting instead of iterating\n",
    "relu6 = lambda y: max(0, range(-y, y, 1)) # max can broadcast too!"
   ]
  },
  {
   "cell_type": "code",
   "execution_count": 4,
   "metadata": {
    "collapsed": false
   },
   "outputs": [
    {
     "name": "stdout",
     "output_type": "stream",
     "text": [
      "         4 function calls in 0.024 seconds\n",
      "\n",
      "   Ordered by: standard name\n",
      "\n",
      "   ncalls  tottime  percall  cumtime  percall filename:lineno(function)\n",
      "        1    0.017    0.017    0.021    0.021 <ipython-input-3-144de2f1b269>:1(<lambda>)\n",
      "        1    0.002    0.002    0.024    0.024 <string>:1(<module>)\n",
      "        1    0.000    0.000    0.000    0.000 {method 'disable' of '_lsprof.Profiler' objects}\n",
      "        1    0.004    0.004    0.004    0.004 {range}\n",
      "\n",
      "\n"
     ]
    }
   ],
   "source": [
    "relu1_pro = profile.runctx('relu1(10**5)', globals(), locals()) # iterating ternary operation"
   ]
  },
  {
   "cell_type": "code",
   "execution_count": 5,
   "metadata": {
    "collapsed": false
   },
   "outputs": [
    {
     "name": "stdout",
     "output_type": "stream",
     "text": [
      "         200004 function calls in 0.078 seconds\n",
      "\n",
      "   Ordered by: standard name\n",
      "\n",
      "   ncalls  tottime  percall  cumtime  percall filename:lineno(function)\n",
      "        1    0.043    0.043    0.077    0.077 <ipython-input-3-144de2f1b269>:2(<lambda>)\n",
      "        1    0.001    0.001    0.078    0.078 <string>:1(<module>)\n",
      "   200000    0.031    0.000    0.031    0.000 {max}\n",
      "        1    0.000    0.000    0.000    0.000 {method 'disable' of '_lsprof.Profiler' objects}\n",
      "        1    0.002    0.002    0.002    0.002 {range}\n",
      "\n",
      "\n"
     ]
    }
   ],
   "source": [
    "relu2_pro = profile.runctx('relu2(10**5)', globals(), locals()) # iterating max operation"
   ]
  },
  {
   "cell_type": "code",
   "execution_count": 6,
   "metadata": {
    "collapsed": false
   },
   "outputs": [
    {
     "name": "stdout",
     "output_type": "stream",
     "text": [
      "         200004 function calls in 0.075 seconds\n",
      "\n",
      "   Ordered by: standard name\n",
      "\n",
      "   ncalls  tottime  percall  cumtime  percall filename:lineno(function)\n",
      "   200000    0.025    0.000    0.025    0.000 <ipython-input-2-7fd001c5d2df>:1(max_zero_floor)\n",
      "        1    0.047    0.047    0.074    0.074 <ipython-input-3-144de2f1b269>:3(<lambda>)\n",
      "        1    0.001    0.001    0.075    0.075 <string>:1(<module>)\n",
      "        1    0.000    0.000    0.000    0.000 {method 'disable' of '_lsprof.Profiler' objects}\n",
      "        1    0.002    0.002    0.002    0.002 {range}\n",
      "\n",
      "\n"
     ]
    }
   ],
   "source": [
    "relu3_pro = profile.runctx('relu3(10**5)', globals(), locals()) # iterating udf"
   ]
  },
  {
   "cell_type": "code",
   "execution_count": 7,
   "metadata": {
    "collapsed": false
   },
   "outputs": [
    {
     "name": "stdout",
     "output_type": "stream",
     "text": [
      "         4 function calls in 0.215 seconds\n",
      "\n",
      "   Ordered by: standard name\n",
      "\n",
      "   ncalls  tottime  percall  cumtime  percall filename:lineno(function)\n",
      "        1    0.211    0.211    0.213    0.213 <ipython-input-3-144de2f1b269>:4(<lambda>)\n",
      "        1    0.002    0.002    0.215    0.215 <string>:1(<module>)\n",
      "        1    0.000    0.000    0.000    0.000 {method 'disable' of '_lsprof.Profiler' objects}\n",
      "        1    0.002    0.002    0.002    0.002 {range}\n",
      "\n",
      "\n"
     ]
    }
   ],
   "source": [
    "relu4_pro = profile.runctx('relu4(10**5)', globals(), locals()) # iterating numpy.maximum"
   ]
  },
  {
   "cell_type": "code",
   "execution_count": 8,
   "metadata": {
    "collapsed": false
   },
   "outputs": [
    {
     "name": "stdout",
     "output_type": "stream",
     "text": [
      "         4 function calls in 0.016 seconds\n",
      "\n",
      "   Ordered by: standard name\n",
      "\n",
      "   ncalls  tottime  percall  cumtime  percall filename:lineno(function)\n",
      "        1    0.014    0.014    0.016    0.016 <ipython-input-3-144de2f1b269>:5(<lambda>)\n",
      "        1    0.000    0.000    0.016    0.016 <string>:1(<module>)\n",
      "        1    0.000    0.000    0.000    0.000 {method 'disable' of '_lsprof.Profiler' objects}\n",
      "        1    0.003    0.003    0.003    0.003 {range}\n",
      "\n",
      "\n"
     ]
    }
   ],
   "source": [
    "relu5_pro = profile.runctx('relu5(10**5)', globals(), locals()) # Uses broadcasting instead of iterating"
   ]
  },
  {
   "cell_type": "code",
   "execution_count": 9,
   "metadata": {
    "collapsed": false
   },
   "outputs": [
    {
     "name": "stdout",
     "output_type": "stream",
     "text": [
      "         5 function calls in 0.003 seconds\n",
      "\n",
      "   Ordered by: standard name\n",
      "\n",
      "   ncalls  tottime  percall  cumtime  percall filename:lineno(function)\n",
      "        1    0.000    0.000    0.002    0.002 <ipython-input-3-144de2f1b269>:6(<lambda>)\n",
      "        1    0.001    0.001    0.003    0.003 <string>:1(<module>)\n",
      "        1    0.000    0.000    0.000    0.000 {max}\n",
      "        1    0.000    0.000    0.000    0.000 {method 'disable' of '_lsprof.Profiler' objects}\n",
      "        1    0.002    0.002    0.002    0.002 {range}\n",
      "\n",
      "\n"
     ]
    }
   ],
   "source": [
    "relu6_pro = profile.runctx('relu6(10**5)', globals(), locals()) # max can broadcast too!"
   ]
  },
  {
   "cell_type": "markdown",
   "metadata": {},
   "source": [
    "### My final assessment is that broadcasting is by far the most efficient means of running an ReLU on a list of numbers (math nerds read vector). \n",
    "\n",
    "\n",
    "### Broadcasting on the built-in max function was 5x as fast as broadcasting over numpy's maximum function. However, iterating on the ternary operation inline was 50% slower than numpy's maximum. \n",
    "\n",
    "\n",
    "### Iterating is costly, but just as costly was function call overhead, which when combined with the built-in max function, took about 3x as long to process relative to iterating on a ternary expression, and over 20x relative to broadcasting on the same max function. \n",
    "\n",
    "\n",
    "### Creating a user defined function and iterating on it was on par with iterating on the built in max. By far the slowest route was iterating over the numpy.maximum function, most likely because of the roundabout path to reach a solution."
   ]
  }
 ],
 "metadata": {
  "kernelspec": {
   "display_name": "Python 2",
   "language": "python",
   "name": "python2"
  },
  "language_info": {
   "codemirror_mode": {
    "name": "ipython",
    "version": 2
   },
   "file_extension": ".py",
   "mimetype": "text/x-python",
   "name": "python",
   "nbconvert_exporter": "python",
   "pygments_lexer": "ipython2",
   "version": "2.7.11"
  }
 },
 "nbformat": 4,
 "nbformat_minor": 0
}
