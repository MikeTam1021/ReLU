{
 "cells": [
  {
   "cell_type": "markdown",
   "metadata": {},
   "source": [
    "# This is a test of ReLU function speeds in Python\n",
    "###### Author: Mike Tamillow"
   ]
  },
  {
   "cell_type": "code",
   "execution_count": 1,
   "metadata": {
    "collapsed": true
   },
   "outputs": [],
   "source": [
    "import cProfile as profile\n",
    "import numpy as np"
   ]
  },
  {
   "cell_type": "code",
   "execution_count": 2,
   "metadata": {
    "collapsed": true
   },
   "outputs": [],
   "source": [
    "def max_zero_floor(x):\n",
    "    if x < 0:\n",
    "        return 0\n",
    "    return x"
   ]
  },
  {
   "cell_type": "code",
   "execution_count": 3,
   "metadata": {
    "collapsed": true
   },
   "outputs": [],
   "source": [
    "relu1 = lambda y: [x if x>0 else 0 for x in range(y)] # iterating ternary operation\n",
    "relu2 = lambda y: [max(0, x) for x in range(y)] # iterating max operation\n",
    "relu3 = lambda y: [max_zero_floor(x) for x in range(y)] # iterating udf\n",
    "relu4 = lambda y: [np.maximum(0, x) for x in range(y)] # iterating numpy.maximum\n",
    "relu5 = lambda y: np.maximum(0, range(y)) # Uses broadcasting instead of iterating\n",
    "relu6 = lambda y: max(0, range(y)) # max can broadcast too!"
   ]
  },
  {
   "cell_type": "code",
   "execution_count": 10,
   "metadata": {
    "collapsed": false
   },
   "outputs": [
    {
     "name": "stdout",
     "output_type": "stream",
     "text": [
      "         4 function calls in 0.010 seconds\n",
      "\n",
      "   Ordered by: standard name\n",
      "\n",
      "   ncalls  tottime  percall  cumtime  percall filename:lineno(function)\n",
      "        1    0.009    0.009    0.009    0.009 <ipython-input-3-272d4ee2a132>:1(<lambda>)\n",
      "        1    0.001    0.001    0.010    0.010 <string>:1(<module>)\n",
      "        1    0.000    0.000    0.000    0.000 {method 'disable' of '_lsprof.Profiler' objects}\n",
      "        1    0.001    0.001    0.001    0.001 {range}\n",
      "\n",
      "\n"
     ]
    }
   ],
   "source": [
    "relu1_pro = profile.runctx('relu1(10**5)', globals(), locals()) # iterating ternary operation"
   ]
  },
  {
   "cell_type": "code",
   "execution_count": 11,
   "metadata": {
    "collapsed": false
   },
   "outputs": [
    {
     "name": "stdout",
     "output_type": "stream",
     "text": [
      "         100004 function calls in 0.044 seconds\n",
      "\n",
      "   Ordered by: standard name\n",
      "\n",
      "   ncalls  tottime  percall  cumtime  percall filename:lineno(function)\n",
      "        1    0.024    0.024    0.041    0.041 <ipython-input-3-272d4ee2a132>:2(<lambda>)\n",
      "        1    0.003    0.003    0.044    0.044 <string>:1(<module>)\n",
      "   100000    0.016    0.000    0.016    0.000 {max}\n",
      "        1    0.000    0.000    0.000    0.000 {method 'disable' of '_lsprof.Profiler' objects}\n",
      "        1    0.001    0.001    0.001    0.001 {range}\n",
      "\n",
      "\n"
     ]
    }
   ],
   "source": [
    "relu2_pro = profile.runctx('relu2(10**5)', globals(), locals()) # iterating max operation"
   ]
  },
  {
   "cell_type": "code",
   "execution_count": 12,
   "metadata": {
    "collapsed": false
   },
   "outputs": [
    {
     "name": "stdout",
     "output_type": "stream",
     "text": [
      "         100004 function calls in 0.042 seconds\n",
      "\n",
      "   Ordered by: standard name\n",
      "\n",
      "   ncalls  tottime  percall  cumtime  percall filename:lineno(function)\n",
      "   100000    0.014    0.000    0.014    0.000 <ipython-input-2-7fd001c5d2df>:1(max_zero_floor)\n",
      "        1    0.026    0.026    0.041    0.041 <ipython-input-3-272d4ee2a132>:3(<lambda>)\n",
      "        1    0.001    0.001    0.042    0.042 <string>:1(<module>)\n",
      "        1    0.000    0.000    0.000    0.000 {method 'disable' of '_lsprof.Profiler' objects}\n",
      "        1    0.001    0.001    0.001    0.001 {range}\n",
      "\n",
      "\n"
     ]
    }
   ],
   "source": [
    "relu3_pro = profile.runctx('relu3(10**5)', globals(), locals()) # iterating udf"
   ]
  },
  {
   "cell_type": "code",
   "execution_count": 13,
   "metadata": {
    "collapsed": false
   },
   "outputs": [
    {
     "name": "stdout",
     "output_type": "stream",
     "text": [
      "         4 function calls in 0.113 seconds\n",
      "\n",
      "   Ordered by: standard name\n",
      "\n",
      "   ncalls  tottime  percall  cumtime  percall filename:lineno(function)\n",
      "        1    0.111    0.111    0.112    0.112 <ipython-input-3-272d4ee2a132>:4(<lambda>)\n",
      "        1    0.001    0.001    0.113    0.113 <string>:1(<module>)\n",
      "        1    0.000    0.000    0.000    0.000 {method 'disable' of '_lsprof.Profiler' objects}\n",
      "        1    0.001    0.001    0.001    0.001 {range}\n",
      "\n",
      "\n"
     ]
    }
   ],
   "source": [
    "relu4_pro = profile.runctx('relu4(10**5)', globals(), locals()) # iterating numpy.maximum"
   ]
  },
  {
   "cell_type": "code",
   "execution_count": 14,
   "metadata": {
    "collapsed": false
   },
   "outputs": [
    {
     "name": "stdout",
     "output_type": "stream",
     "text": [
      "         4 function calls in 0.008 seconds\n",
      "\n",
      "   Ordered by: standard name\n",
      "\n",
      "   ncalls  tottime  percall  cumtime  percall filename:lineno(function)\n",
      "        1    0.007    0.007    0.008    0.008 <ipython-input-3-272d4ee2a132>:5(<lambda>)\n",
      "        1    0.000    0.000    0.008    0.008 <string>:1(<module>)\n",
      "        1    0.000    0.000    0.000    0.000 {method 'disable' of '_lsprof.Profiler' objects}\n",
      "        1    0.001    0.001    0.001    0.001 {range}\n",
      "\n",
      "\n"
     ]
    }
   ],
   "source": [
    "relu5_pro = profile.runctx('relu5(10**5)', globals(), locals()) # Uses broadcasting instead of iterating"
   ]
  },
  {
   "cell_type": "code",
   "execution_count": 15,
   "metadata": {
    "collapsed": false
   },
   "outputs": [
    {
     "name": "stdout",
     "output_type": "stream",
     "text": [
      "         5 function calls in 0.002 seconds\n",
      "\n",
      "   Ordered by: standard name\n",
      "\n",
      "   ncalls  tottime  percall  cumtime  percall filename:lineno(function)\n",
      "        1    0.000    0.000    0.001    0.001 <ipython-input-3-272d4ee2a132>:6(<lambda>)\n",
      "        1    0.001    0.001    0.002    0.002 <string>:1(<module>)\n",
      "        1    0.000    0.000    0.000    0.000 {max}\n",
      "        1    0.000    0.000    0.000    0.000 {method 'disable' of '_lsprof.Profiler' objects}\n",
      "        1    0.001    0.001    0.001    0.001 {range}\n",
      "\n",
      "\n"
     ]
    }
   ],
   "source": [
    "relu6_pro = profile.runctx('relu6(10**5)', globals(), locals()) # max can broadcast too!"
   ]
  },
  {
   "cell_type": "markdown",
   "metadata": {},
   "source": [
    "### My final assessment is that broadcasting is by far the most efficient means of running an ReLU on a list of numbers (math nerds read vector). \n",
    "\n",
    "\n",
    "### Broadcasting on the built-in max function was 4x as fast as broadcasting over numpy's maximum function. However, iterating on the ternary operation inline was just slightly slower than numpy's maximum. \n",
    "\n",
    "\n",
    "### Iterating is costly, but just as costly was function call overhead, which when combined with the built-in max function, took over 4x as long to process relative to iterating on a ternary expression, and over 20x relative to broadcasting on the same max function. \n",
    "\n",
    "\n",
    "### Creating a user defined function and iterating on it was on par with iterating on the built in max. By far the slowest route was iterating over the numpy.maximum function, most likely because of the roundabout path to reach a solution."
   ]
  }
 ],
 "metadata": {
  "kernelspec": {
   "display_name": "Python 2",
   "language": "python",
   "name": "python2"
  },
  "language_info": {
   "codemirror_mode": {
    "name": "ipython",
    "version": 2
   },
   "file_extension": ".py",
   "mimetype": "text/x-python",
   "name": "python",
   "nbconvert_exporter": "python",
   "pygments_lexer": "ipython2",
   "version": "2.7.11"
  }
 },
 "nbformat": 4,
 "nbformat_minor": 0
}
